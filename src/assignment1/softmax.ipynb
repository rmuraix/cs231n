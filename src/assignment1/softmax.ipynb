{
 "cells": [
  {
   "cell_type": "code",
   "execution_count": null,
   "id": "d8aaae81",
   "metadata": {
    "colab": {
     "base_uri": "https://localhost:8080/"
    },
    "executionInfo": {
     "elapsed": 22881,
     "status": "ok",
     "timestamp": 1714218608570,
     "user": {
      "displayName": "e2113134ムライ リョウタ",
      "userId": "02906284029637501621"
     },
     "user_tz": -540
    },
    "id": "d8aaae81",
    "outputId": "f29037ca-36e2-49fa-8818-3c997981e024"
   },
   "outputs": [],
   "source": [
    "# This mounts your Google Drive to the Colab VM.\n",
    "from google.colab import drive\n",
    "\n",
    "drive.mount(\"/content/drive\")\n",
    "\n",
    "# TODO: Enter the foldername in your Drive where you have saved the unzipped\n",
    "# assignment folder, e.g. 'cs231n/assignments/assignment1/'\n",
    "FOLDERNAME = \"cs231n/assignment1/\"\n",
    "assert FOLDERNAME is not None, \"[!] Enter the foldername.\"\n",
    "\n",
    "# Now that we've mounted your Drive, this ensures that\n",
    "# the Python interpreter of the Colab VM can load\n",
    "# python files from within it.\n",
    "import sys\n",
    "\n",
    "sys.path.append(\"/content/drive/My Drive/{}\".format(FOLDERNAME))\n",
    "\n",
    "# This downloads the CIFAR-10 dataset to your Drive\n",
    "# if it doesn't already exist.\n",
    "%cd /content/drive/My\\ Drive/$FOLDERNAME/cs231n/datasets/\n",
    "!bash get_datasets.sh\n",
    "%cd /content/drive/My\\ Drive/$FOLDERNAME"
   ]
  },
  {
   "cell_type": "code",
   "execution_count": 1,
   "id": "e70f375c",
   "metadata": {},
   "outputs": [
    {
     "name": "stdout",
     "output_type": "stream",
     "text": [
      "/workspaces/cs231n/src/assignment1/cs231n/datasets\n",
      "/workspaces/cs231n/src/assignment1\n"
     ]
    }
   ],
   "source": [
    "%cd ./cs231n/datasets/\n",
    "!bash get_datasets.sh\n",
    "%cd ../../"
   ]
  },
  {
   "cell_type": "markdown",
   "id": "e2c3cfa1",
   "metadata": {
    "id": "e2c3cfa1",
    "tags": [
     "pdf-title"
    ]
   },
   "source": [
    "# Softmax exercise\n",
    "\n",
    "*Complete and hand in this completed worksheet (including its outputs and any supporting code outside of the worksheet) with your assignment submission. For more details see the [assignments page](http://vision.stanford.edu/teaching/cs231n/assignments.html) on the course website.*\n",
    "\n",
    "This exercise is analogous to the SVM exercise. You will:\n",
    "\n",
    "- implement a fully-vectorized **loss function** for the Softmax classifier\n",
    "- implement the fully-vectorized expression for its **analytic gradient**\n",
    "- **check your implementation** with numerical gradient\n",
    "- use a validation set to **tune the learning rate and regularization** strength\n",
    "- **optimize** the loss function with **SGD**\n",
    "- **visualize** the final learned weights\n"
   ]
  },
  {
   "cell_type": "code",
   "execution_count": 2,
   "id": "c55a72bf",
   "metadata": {
    "executionInfo": {
     "elapsed": 823,
     "status": "ok",
     "timestamp": 1714218641536,
     "user": {
      "displayName": "e2113134ムライ リョウタ",
      "userId": "02906284029637501621"
     },
     "user_tz": -540
    },
    "id": "c55a72bf",
    "tags": [
     "pdf-ignore"
    ]
   },
   "outputs": [],
   "source": [
    "import random\n",
    "import numpy as np\n",
    "from cs231n.data_utils import load_CIFAR10\n",
    "import matplotlib.pyplot as plt\n",
    "\n",
    "%matplotlib inline\n",
    "plt.rcParams[\"figure.figsize\"] = (10.0, 8.0)  # set default size of plots\n",
    "plt.rcParams[\"image.interpolation\"] = \"nearest\"\n",
    "plt.rcParams[\"image.cmap\"] = \"gray\"\n",
    "\n",
    "# for auto-reloading extenrnal modules\n",
    "# see http://stackoverflow.com/questions/1907993/autoreload-of-modules-in-ipython\n",
    "%load_ext autoreload\n",
    "%autoreload 2"
   ]
  },
  {
   "cell_type": "code",
   "execution_count": 3,
   "id": "b99594ec",
   "metadata": {
    "colab": {
     "base_uri": "https://localhost:8080/"
    },
    "executionInfo": {
     "elapsed": 18125,
     "status": "ok",
     "timestamp": 1714218670927,
     "user": {
      "displayName": "e2113134ムライ リョウタ",
      "userId": "02906284029637501621"
     },
     "user_tz": -540
    },
    "id": "b99594ec",
    "outputId": "8ccdae02-89f9-4df7-cde1-bf6925002296",
    "tags": [
     "pdf-ignore"
    ]
   },
   "outputs": [
    {
     "name": "stdout",
     "output_type": "stream",
     "text": [
      "Train data shape:  (49000, 3073)\n",
      "Train labels shape:  (49000,)\n",
      "Validation data shape:  (1000, 3073)\n",
      "Validation labels shape:  (1000,)\n",
      "Test data shape:  (1000, 3073)\n",
      "Test labels shape:  (1000,)\n",
      "dev data shape:  (500, 3073)\n",
      "dev labels shape:  (500,)\n"
     ]
    }
   ],
   "source": [
    "def get_CIFAR10_data(\n",
    "    num_training=49000, num_validation=1000, num_test=1000, num_dev=500\n",
    "):\n",
    "    \"\"\"\n",
    "    Load the CIFAR-10 dataset from disk and perform preprocessing to prepare\n",
    "    it for the linear classifier. These are the same steps as we used for the\n",
    "    SVM, but condensed to a single function.\n",
    "    \"\"\"\n",
    "    # Load the raw CIFAR-10 data\n",
    "    cifar10_dir = \"cs231n/datasets/cifar-10-batches-py\"\n",
    "\n",
    "    # Cleaning up variables to prevent loading data multiple times (which may cause memory issue)\n",
    "    try:\n",
    "        del X_train, y_train\n",
    "        del X_test, y_test\n",
    "        print(\"Clear previously loaded data.\")\n",
    "    except:\n",
    "        pass\n",
    "\n",
    "    X_train, y_train, X_test, y_test = load_CIFAR10(cifar10_dir)\n",
    "\n",
    "    # subsample the data\n",
    "    mask = list(range(num_training, num_training + num_validation))\n",
    "    X_val = X_train[mask]\n",
    "    y_val = y_train[mask]\n",
    "    mask = list(range(num_training))\n",
    "    X_train = X_train[mask]\n",
    "    y_train = y_train[mask]\n",
    "    mask = list(range(num_test))\n",
    "    X_test = X_test[mask]\n",
    "    y_test = y_test[mask]\n",
    "    mask = np.random.choice(num_training, num_dev, replace=False)\n",
    "    X_dev = X_train[mask]\n",
    "    y_dev = y_train[mask]\n",
    "\n",
    "    # Preprocessing: reshape the image data into rows\n",
    "    X_train = np.reshape(X_train, (X_train.shape[0], -1))\n",
    "    X_val = np.reshape(X_val, (X_val.shape[0], -1))\n",
    "    X_test = np.reshape(X_test, (X_test.shape[0], -1))\n",
    "    X_dev = np.reshape(X_dev, (X_dev.shape[0], -1))\n",
    "\n",
    "    # Normalize the data: subtract the mean image\n",
    "    mean_image = np.mean(X_train, axis=0)\n",
    "    X_train -= mean_image\n",
    "    X_val -= mean_image\n",
    "    X_test -= mean_image\n",
    "    X_dev -= mean_image\n",
    "\n",
    "    # add bias dimension and transform into columns\n",
    "    X_train = np.hstack([X_train, np.ones((X_train.shape[0], 1))])\n",
    "    X_val = np.hstack([X_val, np.ones((X_val.shape[0], 1))])\n",
    "    X_test = np.hstack([X_test, np.ones((X_test.shape[0], 1))])\n",
    "    X_dev = np.hstack([X_dev, np.ones((X_dev.shape[0], 1))])\n",
    "\n",
    "    return X_train, y_train, X_val, y_val, X_test, y_test, X_dev, y_dev\n",
    "\n",
    "\n",
    "# Invoke the above function to get our data.\n",
    "X_train, y_train, X_val, y_val, X_test, y_test, X_dev, y_dev = get_CIFAR10_data()\n",
    "print(\"Train data shape: \", X_train.shape)\n",
    "print(\"Train labels shape: \", y_train.shape)\n",
    "print(\"Validation data shape: \", X_val.shape)\n",
    "print(\"Validation labels shape: \", y_val.shape)\n",
    "print(\"Test data shape: \", X_test.shape)\n",
    "print(\"Test labels shape: \", y_test.shape)\n",
    "print(\"dev data shape: \", X_dev.shape)\n",
    "print(\"dev labels shape: \", y_dev.shape)"
   ]
  },
  {
   "cell_type": "markdown",
   "id": "2713b7f4",
   "metadata": {
    "id": "2713b7f4"
   },
   "source": [
    "## Softmax Classifier\n",
    "\n",
    "Your code for this section will all be written inside `cs231n/classifiers/softmax.py`.\n"
   ]
  },
  {
   "cell_type": "code",
   "execution_count": 5,
   "id": "6168f67e",
   "metadata": {
    "colab": {
     "base_uri": "https://localhost:8080/"
    },
    "executionInfo": {
     "elapsed": 2110,
     "status": "ok",
     "timestamp": 1714218680929,
     "user": {
      "displayName": "e2113134ムライ リョウタ",
      "userId": "02906284029637501621"
     },
     "user_tz": -540
    },
    "id": "6168f67e",
    "outputId": "ad56193c-bf72-45b7-a718-14e7687b65da"
   },
   "outputs": [
    {
     "name": "stdout",
     "output_type": "stream",
     "text": [
      "loss: 2.363745\n",
      "sanity check: 2.302585\n"
     ]
    }
   ],
   "source": [
    "# First implement the naive softmax loss function with nested loops.\n",
    "# Open the file cs231n/classifiers/softmax.py and implement the\n",
    "# softmax_loss_naive function.\n",
    "\n",
    "from cs231n.classifiers.softmax import softmax_loss_naive\n",
    "import time\n",
    "\n",
    "# Generate a random softmax weight matrix and use it to compute the loss.\n",
    "W = np.random.randn(3073, 10) * 0.0001\n",
    "loss, grad = softmax_loss_naive(W, X_dev, y_dev, 0.0)\n",
    "\n",
    "# As a rough sanity check, our loss should be something close to -log(0.1).\n",
    "print(\"loss: %f\" % loss)\n",
    "print(\"sanity check: %f\" % (-np.log(0.1)))"
   ]
  },
  {
   "cell_type": "markdown",
   "id": "b35bc604",
   "metadata": {
    "id": "b35bc604",
    "tags": [
     "pdf-inline"
    ]
   },
   "source": [
    "**Inline Question 1**\n",
    "\n",
    "Why do we expect our loss to be close to -log(0.1)? Explain briefly.**  \n",
    "なぜ損失が-log(0.1)に近くなると予想されるのか？簡単に説明してください。\n",
    "\n",
    "$\\color{blue}{\\textit Your Answer:}$  \n",
    "10個のクラスがあるため、ランダムに推測したときの正解する確率は0.1である。重みが初期化されているとき、純粋に生のスコアを確率に変換するので、正しい推測を得る確率も0.1である。\n"
   ]
  },
  {
   "cell_type": "code",
   "execution_count": 6,
   "id": "b7bef674",
   "metadata": {
    "id": "b7bef674"
   },
   "outputs": [
    {
     "name": "stdout",
     "output_type": "stream",
     "text": [
      "numerical: -4.725506 analytic: -4.725506, relative error: 6.112881e-09\n",
      "numerical: -2.221226 analytic: -2.221226, relative error: 2.415887e-08\n",
      "numerical: 0.476732 analytic: 0.476732, relative error: 5.497280e-08\n",
      "numerical: 1.822950 analytic: 1.822949, relative error: 6.093640e-08\n",
      "numerical: 1.528736 analytic: 1.528736, relative error: 4.849558e-08\n",
      "numerical: 1.294401 analytic: 1.294401, relative error: 5.565355e-08\n",
      "numerical: -5.723607 analytic: -5.723607, relative error: 1.254829e-08\n",
      "numerical: -5.580470 analytic: -5.580470, relative error: 1.772177e-09\n",
      "numerical: 0.512036 analytic: 0.512036, relative error: 1.737741e-07\n",
      "numerical: 1.764796 analytic: 1.764796, relative error: 4.247222e-08\n",
      "numerical: 1.891565 analytic: 1.891564, relative error: 3.429523e-08\n",
      "numerical: -1.497895 analytic: -1.497895, relative error: 1.316725e-08\n",
      "numerical: 2.231970 analytic: 2.231970, relative error: 1.937557e-08\n",
      "numerical: 0.277224 analytic: 0.277224, relative error: 7.553688e-08\n",
      "numerical: 0.649692 analytic: 0.649692, relative error: 2.010006e-07\n",
      "numerical: 2.024829 analytic: 2.024829, relative error: 3.566751e-08\n",
      "numerical: 2.882322 analytic: 2.882322, relative error: 3.996856e-08\n",
      "numerical: 1.772535 analytic: 1.772535, relative error: 4.178211e-08\n",
      "numerical: -0.945625 analytic: -0.945625, relative error: 5.016790e-08\n",
      "numerical: 0.157149 analytic: 0.157149, relative error: 5.028740e-08\n"
     ]
    }
   ],
   "source": [
    "# Complete the implementation of softmax_loss_naive and implement a (naive)\n",
    "# version of the gradient that uses nested loops.\n",
    "loss, grad = softmax_loss_naive(W, X_dev, y_dev, 0.0)\n",
    "\n",
    "# As we did for the SVM, use numeric gradient checking as a debugging tool.\n",
    "# The numeric gradient should be close to the analytic gradient.\n",
    "from cs231n.gradient_check import grad_check_sparse\n",
    "\n",
    "f = lambda w: softmax_loss_naive(w, X_dev, y_dev, 0.0)[0]\n",
    "grad_numerical = grad_check_sparse(f, W, grad, 10)\n",
    "\n",
    "# similar to SVM case, do another gradient check with regularization\n",
    "loss, grad = softmax_loss_naive(W, X_dev, y_dev, 5e1)\n",
    "f = lambda w: softmax_loss_naive(w, X_dev, y_dev, 5e1)[0]\n",
    "grad_numerical = grad_check_sparse(f, W, grad, 10)"
   ]
  },
  {
   "cell_type": "code",
   "execution_count": 7,
   "id": "3994f8a3",
   "metadata": {
    "id": "3994f8a3"
   },
   "outputs": [
    {
     "name": "stdout",
     "output_type": "stream",
     "text": [
      "naive loss: 2.363745e+00 computed in 0.201234s\n",
      "vectorized loss: 2.363745e+00 computed in 0.015689s\n",
      "Loss difference: 0.000000\n",
      "Gradient difference: 0.000000\n"
     ]
    }
   ],
   "source": [
    "# Now that we have a naive implementation of the softmax loss function and its gradient,\n",
    "# implement a vectorized version in softmax_loss_vectorized.\n",
    "# The two versions should compute the same results, but the vectorized version should be\n",
    "# much faster.\n",
    "tic = time.time()\n",
    "loss_naive, grad_naive = softmax_loss_naive(W, X_dev, y_dev, 0.000005)\n",
    "toc = time.time()\n",
    "print(\"naive loss: %e computed in %fs\" % (loss_naive, toc - tic))\n",
    "\n",
    "from cs231n.classifiers.softmax import softmax_loss_vectorized\n",
    "\n",
    "tic = time.time()\n",
    "loss_vectorized, grad_vectorized = softmax_loss_vectorized(W, X_dev, y_dev, 0.000005)\n",
    "toc = time.time()\n",
    "print(\"vectorized loss: %e computed in %fs\" % (loss_vectorized, toc - tic))\n",
    "\n",
    "# As we did for the SVM, we use the Frobenius norm to compare the two versions\n",
    "# of the gradient.\n",
    "grad_difference = np.linalg.norm(grad_naive - grad_vectorized, ord=\"fro\")\n",
    "print(\"Loss difference: %f\" % np.abs(loss_naive - loss_vectorized))\n",
    "print(\"Gradient difference: %f\" % grad_difference)"
   ]
  },
  {
   "cell_type": "code",
   "execution_count": 11,
   "id": "bd171311",
   "metadata": {
    "id": "bd171311",
    "tags": [
     "code"
    ],
    "test": "tuning"
   },
   "outputs": [
    {
     "name": "stdout",
     "output_type": "stream",
     "text": [
      "lr 2.000000e-07 reg 5.000000e+03 train accuracy: 0.355592 val accuracy: 0.372000\n",
      "lr 2.000000e-07 reg 8.891397e+03 train accuracy: 0.360714 val accuracy: 0.365000\n",
      "lr 2.000000e-07 reg 1.581139e+04 train accuracy: 0.343878 val accuracy: 0.358000\n",
      "lr 2.000000e-07 reg 2.811707e+04 train accuracy: 0.321102 val accuracy: 0.332000\n",
      "lr 2.000000e-07 reg 5.000000e+04 train accuracy: 0.300980 val accuracy: 0.312000\n",
      "lr 2.213364e-07 reg 5.000000e+03 train accuracy: 0.363531 val accuracy: 0.388000\n",
      "lr 2.213364e-07 reg 8.891397e+03 train accuracy: 0.356490 val accuracy: 0.366000\n",
      "lr 2.213364e-07 reg 1.581139e+04 train accuracy: 0.344224 val accuracy: 0.361000\n",
      "lr 2.213364e-07 reg 2.811707e+04 train accuracy: 0.328939 val accuracy: 0.342000\n",
      "lr 2.213364e-07 reg 5.000000e+04 train accuracy: 0.301735 val accuracy: 0.322000\n",
      "lr 2.449490e-07 reg 5.000000e+03 train accuracy: 0.366041 val accuracy: 0.381000\n",
      "lr 2.449490e-07 reg 8.891397e+03 train accuracy: 0.357429 val accuracy: 0.374000\n",
      "lr 2.449490e-07 reg 1.581139e+04 train accuracy: 0.337694 val accuracy: 0.347000\n",
      "lr 2.449490e-07 reg 2.811707e+04 train accuracy: 0.325653 val accuracy: 0.340000\n",
      "lr 2.449490e-07 reg 5.000000e+04 train accuracy: 0.304245 val accuracy: 0.326000\n",
      "lr 2.710806e-07 reg 5.000000e+03 train accuracy: 0.370510 val accuracy: 0.381000\n",
      "lr 2.710806e-07 reg 8.891397e+03 train accuracy: 0.358000 val accuracy: 0.374000\n",
      "lr 2.710806e-07 reg 1.581139e+04 train accuracy: 0.343367 val accuracy: 0.366000\n",
      "lr 2.710806e-07 reg 2.811707e+04 train accuracy: 0.310735 val accuracy: 0.328000\n",
      "lr 2.710806e-07 reg 5.000000e+04 train accuracy: 0.312224 val accuracy: 0.321000\n",
      "lr 3.000000e-07 reg 5.000000e+03 train accuracy: 0.369490 val accuracy: 0.384000\n",
      "lr 3.000000e-07 reg 8.891397e+03 train accuracy: 0.357388 val accuracy: 0.372000\n",
      "lr 3.000000e-07 reg 1.581139e+04 train accuracy: 0.343408 val accuracy: 0.352000\n",
      "lr 3.000000e-07 reg 2.811707e+04 train accuracy: 0.316449 val accuracy: 0.334000\n",
      "lr 3.000000e-07 reg 5.000000e+04 train accuracy: 0.313837 val accuracy: 0.326000\n",
      "best validation accuracy achieved during cross-validation: 0.388000\n"
     ]
    }
   ],
   "source": [
    "# Use the validation set to tune hyperparameters (regularization strength and\n",
    "# learning rate). You should experiment with different ranges for the learning\n",
    "# rates and regularization strengths; if you are careful you should be able to\n",
    "# get a classification accuracy of over 0.35 on the validation set.\n",
    "\n",
    "# 検証セットを使ってハイパーパラメータ（正則化の強さと学習率）を調整する。\n",
    "# 学習率と正則化の強さの範囲をいろいろ試してみてください。\n",
    "# 注意深くやれば、検証セットで0.35以上の分類精度が得られるはずです。\n",
    "\n",
    "import itertools\n",
    "from cs231n.classifiers import Softmax\n",
    "\n",
    "results = {}\n",
    "best_val = -1\n",
    "best_softmax = None\n",
    "\n",
    "################################################################################\n",
    "# TODO:                                                                        #\n",
    "# Use the validation set to set the learning rate and regularization strength. #\n",
    "# This should be identical to the validation that you did for the SVM; save    #\n",
    "# the best trained softmax classifer in best_softmax.                          #\n",
    "# ---------------------------------------------------------------------------- #\n",
    "# 検証セットを使って、学習率と正則化の強さを設定する。\n",
    "# これはSVMの検証で行ったものと同じであるべきです。\n",
    "# 最もよく訓練されたsoftmaxクラスをbest_softmaxに保存してください。\n",
    "################################################################################\n",
    "\n",
    "# *****START OF YOUR CODE (DO NOT DELETE/MODIFY THIS LINE)*****\n",
    "# Provided as a reference. You may or may not want to change these hyperparameters\n",
    "learning_rates = np.geomspace(2e-7, 3e-7, 5)\n",
    "regularization_strengths = np.geomspace(5e3, 5e4, 5)\n",
    "\n",
    "for lr, reg in itertools.product(learning_rates, regularization_strengths):\n",
    "    # SVMを作成して訓練する\n",
    "    softmax = Softmax()\n",
    "    softmax.train(X_train, y_train, lr, reg, num_iters=1000)\n",
    "\n",
    "    # 訓練セットと検証セットの精度を計算し、辞書に追加する。\n",
    "    y_train_pred, y_val_pred = softmax.predict(X_train), softmax.predict(X_val)\n",
    "    results[(lr, reg)] = np.mean(y_train == y_train_pred), np.mean(y_val == y_val_pred)\n",
    "\n",
    "    # 検証精度が最高の場合は保存\n",
    "    if results[(lr, reg)][1] > best_val:\n",
    "        best_val = results[(lr, reg)][1]\n",
    "        best_softmax = softmax\n",
    "# *****END OF YOUR CODE (DO NOT DELETE/MODIFY THIS LINE)*****\n",
    "\n",
    "# Print out results.\n",
    "for lr, reg in sorted(results):\n",
    "    train_accuracy, val_accuracy = results[(lr, reg)]\n",
    "    print(\n",
    "        \"lr %e reg %e train accuracy: %f val accuracy: %f\"\n",
    "        % (lr, reg, train_accuracy, val_accuracy)\n",
    "    )\n",
    "\n",
    "print(\"best validation accuracy achieved during cross-validation: %f\" % best_val)"
   ]
  },
  {
   "cell_type": "code",
   "execution_count": 12,
   "id": "f94a8f12",
   "metadata": {
    "id": "f94a8f12",
    "test": "test"
   },
   "outputs": [
    {
     "name": "stdout",
     "output_type": "stream",
     "text": [
      "softmax on raw pixels final test set accuracy: 0.361000\n"
     ]
    }
   ],
   "source": [
    "# evaluate on test set\n",
    "# Evaluate the best softmax on test set\n",
    "y_test_pred = best_softmax.predict(X_test)\n",
    "test_accuracy = np.mean(y_test == y_test_pred)\n",
    "print(\"softmax on raw pixels final test set accuracy: %f\" % (test_accuracy,))"
   ]
  },
  {
   "cell_type": "markdown",
   "id": "7e2112ee",
   "metadata": {
    "id": "7e2112ee",
    "tags": [
     "pdf-inline"
    ]
   },
   "source": [
    "**Inline Question 2** - *True or False*\n",
    "\n",
    "Suppose the overall training loss is defined as the sum of the per-datapoint loss over all training examples. It is possible to add a new datapoint to a training set that would leave the SVM loss unchanged, but this is not the case with the Softmax classifier loss.\n",
    "\n",
    "訓練全体の損失は、すべての訓練例にわたるデータポイントごとの損失の合計として定義されるとする。トレーニングセットに新しいデータポイントを追加してもSVMの損失は変わらないが、ソフトマックス分類器の損失はそうではない。\n",
    "\n",
    "$\\color{blue}{\\textit Your Answer:}$\n",
    "\n",
    "真\n",
    "\n",
    "$\\color{blue}{\\textit Your Explanation:}$\n",
    "\n",
    "SVMでは、すでに正しくないラベルのスコアが正しいラベルのスコアと比べて十分低い場合には全体の損失には何も追加されない。そのためこのような場合には全体の損失には影響がない。\n",
    "\n",
    "一方、Softmaxは正しいラベルの確率を1に上げさせ、他のラベルの確率を0に下げる性質を持つため、どのようなスコアが不正確なラベルに付けられたとしても、真のラベルが1の確率に達しない確率を引き起こすため、損失は常に影響を受ける。\n"
   ]
  },
  {
   "cell_type": "code",
   "execution_count": 13,
   "id": "86d86120",
   "metadata": {
    "id": "86d86120"
   },
   "outputs": [
    {
     "data": {
      "image/png": "[encoded data removed]",
      "text/plain": [
       "<Figure size 1000x800 with 10 Axes>"
      ]
     },
     "metadata": {},
     "output_type": "display_data"
    }
   ],
   "source": [
    "# Visualize the learned weights for each class\n",
    "w = best_softmax.W[:-1, :]  # strip out the bias\n",
    "w = w.reshape(32, 32, 3, 10)\n",
    "\n",
    "w_min, w_max = np.min(w), np.max(w)\n",
    "\n",
    "classes = [\n",
    "    \"plane\",\n",
    "    \"car\",\n",
    "    \"bird\",\n",
    "    \"cat\",\n",
    "    \"deer\",\n",
    "    \"dog\",\n",
    "    \"frog\",\n",
    "    \"horse\",\n",
    "    \"ship\",\n",
    "    \"truck\",\n",
    "]\n",
    "for i in range(10):\n",
    "    plt.subplot(2, 5, i + 1)\n",
    "\n",
    "    # Rescale the weights to be between 0 and 255\n",
    "    wimg = 255.0 * (w[:, :, :, i].squeeze() - w_min) / (w_max - w_min)\n",
    "    plt.imshow(wimg.astype(\"uint8\"))\n",
    "    plt.axis(\"off\")\n",
    "    plt.title(classes[i])"
   ]
  },
  {
   "cell_type": "code",
   "execution_count": null,
   "id": "24688f99",
   "metadata": {
    "id": "24688f99"
   },
   "outputs": [],
   "source": []
  }
 ],
 "metadata": {
  "colab": {
   "provenance": []
  },
  "kernelspec": {
   "display_name": "Python 3",
   "name": "python3"
  },
  "language_info": {
   "codemirror_mode": {
    "name": "ipython",
    "version": 3
   },
   "file_extension": ".py",
   "mimetype": "text/x-python",
   "name": "python",
   "nbconvert_exporter": "python",
   "pygments_lexer": "ipython3",
   "version": "3.10.14"
  }
 },
 "nbformat": 4,
 "nbformat_minor": 5
}
