{
 "cells": [
  {
   "cell_type": "code",
   "execution_count": 1,
   "metadata": {
    "colab": {
     "base_uri": "https://localhost:8080/"
    },
    "id": "jJZyS84WrH3M",
    "outputId": "9bda24d6-4138-4977-92e0-0e0e74d112dc"
   },
   "outputs": [
    {
     "name": "stdout",
     "output_type": "stream",
     "text": [
      "Drive already mounted at /content/drive; to attempt to forcibly remount, call drive.mount(\"/content/drive\", force_remount=True).\n",
      "/content/drive/My Drive/cs231n/assignments/assignment2/cs231n/datasets\n",
      "/content/drive/My Drive/cs231n/assignments/assignment2\n"
     ]
    }
   ],
   "source": [
    "# This mounts your Google Drive to the Colab VM.\n",
    "from google.colab import drive\n",
    "\n",
    "drive.mount(\"/content/drive\")\n",
    "\n",
    "# TODO: Enter the foldername in your Drive where you have saved the unzipped\n",
    "# assignment folder, e.g. 'cs231n/assignments/assignment1/'\n",
    "FOLDERNAME = \"cs231n/assignments/assignment2/\"\n",
    "assert FOLDERNAME is not None, \"[!] Enter the foldername.\"\n",
    "\n",
    "# Now that we've mounted your Drive, this ensures that\n",
    "# the Python interpreter of the Colab VM can load\n",
    "# python files from within it.\n",
    "import sys\n",
    "\n",
    "sys.path.append(\"/content/drive/My Drive/{}\".format(FOLDERNAME))\n",
    "\n",
    "# This downloads the CIFAR-10 dataset to your Drive\n",
    "# if it doesn't already exist.\n",
    "%cd /content/drive/My\\ Drive/$FOLDERNAME/cs231n/datasets/\n",
    "!bash get_datasets.sh\n",
    "%cd /content/drive/My\\ Drive/$FOLDERNAME"
   ]
  },
  {
   "cell_type": "markdown",
   "metadata": {},
   "source": [
    "ローカルで実行する場合"
   ]
  },
  {
   "cell_type": "code",
   "execution_count": null,
   "metadata": {},
   "outputs": [],
   "source": [
    "%cd ./cs231n/datasets/\n",
    "!bash get_datasets.sh\n",
    "%cd ../../"
   ]
  },
  {
   "cell_type": "markdown",
   "metadata": {
    "id": "o0y5G_rNrH3T",
    "tags": [
     "pdf-title"
    ]
   },
   "source": [
    "# Dropout\n",
    "Dropout [1] is a technique for regularizing neural networks by randomly setting some output activations to zero during the forward pass. In this exercise, you will implement a dropout layer and modify your fully connected network to optionally use dropout.\n",
    "\n",
    "ドロップアウト[1]は、フォワードパス中にいくつかの出力活性度をランダムにゼロに設定することで、ニューラルネットワークを正則化するテクニックです。この演習では、ドロップアウト層を実装し、オプションでドロップアウトを使用するように完全連結ネットワークを修正します。\n",
    "\n",
    "[1] [Geoffrey E. Hinton et al, \"Improving neural networks by preventing co-adaptation of feature detectors\", arXiv 2012](https://arxiv.org/abs/1207.0580)"
   ]
  },
  {
   "cell_type": "code",
   "execution_count": 2,
   "metadata": {
    "colab": {
     "base_uri": "https://localhost:8080/"
    },
    "id": "BdtROBuKrH3V",
    "outputId": "261dd691-0ba3-4842-c809-5e9ae75ee460",
    "tags": [
     "pdf-ignore"
    ]
   },
   "outputs": [
    {
     "name": "stdout",
     "output_type": "stream",
     "text": [
      "=========== You can safely ignore the message below if you are NOT working on ConvolutionalNetworks.ipynb ===========\n",
      "\tYou will need to compile a Cython extension for a portion of this assignment.\n",
      "\tThe instructions to do this will be given in a section of the notebook below.\n"
     ]
    }
   ],
   "source": [
    "# Setup cell.\n",
    "import time\n",
    "import numpy as np\n",
    "import matplotlib.pyplot as plt\n",
    "from cs231n.classifiers.fc_net import *\n",
    "from cs231n.data_utils import get_CIFAR10_data\n",
    "from cs231n.gradient_check import eval_numerical_gradient, eval_numerical_gradient_array\n",
    "from cs231n.solver import Solver\n",
    "\n",
    "%matplotlib inline\n",
    "plt.rcParams[\"figure.figsize\"] = (10.0, 8.0)  # Set default size of plots.\n",
    "plt.rcParams[\"image.interpolation\"] = \"nearest\"\n",
    "plt.rcParams[\"image.cmap\"] = \"gray\"\n",
    "\n",
    "%load_ext autoreload\n",
    "%autoreload 2\n",
    "\n",
    "\n",
    "def rel_error(x, y):\n",
    "    \"\"\"Returns relative error.\"\"\"\n",
    "    return np.max(np.abs(x - y) / (np.maximum(1e-8, np.abs(x) + np.abs(y))))"
   ]
  },
  {
   "cell_type": "code",
   "execution_count": 3,
   "metadata": {
    "colab": {
     "base_uri": "https://localhost:8080/"
    },
    "id": "pIGIcY0TrH3X",
    "outputId": "31597849-f372-4886-ef6f-73dd6cd0afb8",
    "tags": [
     "pdf-ignore"
    ]
   },
   "outputs": [
    {
     "name": "stdout",
     "output_type": "stream",
     "text": [
      "X_train: (49000, 3, 32, 32)\n",
      "y_train: (49000,)\n",
      "X_val: (1000, 3, 32, 32)\n",
      "y_val: (1000,)\n",
      "X_test: (1000, 3, 32, 32)\n",
      "y_test: (1000,)\n"
     ]
    }
   ],
   "source": [
    "# Load the (preprocessed) CIFAR-10 data.\n",
    "data = get_CIFAR10_data()\n",
    "for k, v in list(data.items()):\n",
    "    print(f\"{k}: {v.shape}\")"
   ]
  },
  {
   "cell_type": "markdown",
   "metadata": {
    "id": "TIZldpDLrH3Y"
   },
   "source": [
    "# Dropout: Forward Pass\n",
    "In the file `cs231n/layers.py`, implement the forward pass for dropout. Since dropout behaves differently during training and testing, make sure to implement the operation for both modes.\n",
    "\n",
    "Once you have done so, run the cell below to test your implementation.\n",
    "\n",
    "ファイル `cs231n/layers.py` で、ドロップアウトのフォワードパスを実装します。トレーニング中とテスト中ではドロップアウトの動作が異なるので、両方のモードで動作するように実装してください。\n",
    "\n",
    "実装が完了したら、以下のセルを実行して実装をテストしてください。"
   ]
  },
  {
   "cell_type": "code",
   "execution_count": 4,
   "metadata": {
    "colab": {
     "base_uri": "https://localhost:8080/"
    },
    "id": "tw--7XQxrH3Z",
    "outputId": "7978c391-556b-432a-9dea-30d84b446ad4"
   },
   "outputs": [
    {
     "name": "stdout",
     "output_type": "stream",
     "text": [
      "Running tests with p =  0.25\n",
      "Mean of input:  10.000207878477502\n",
      "Mean of train-time output:  10.014059116977283\n",
      "Mean of test-time output:  10.000207878477502\n",
      "Fraction of train-time output set to zero:  0.749784\n",
      "Fraction of test-time output set to zero:  0.0\n",
      "\n",
      "Running tests with p =  0.4\n",
      "Mean of input:  10.000207878477502\n",
      "Mean of train-time output:  9.977917658761159\n",
      "Mean of test-time output:  10.000207878477502\n",
      "Fraction of train-time output set to zero:  0.600796\n",
      "Fraction of test-time output set to zero:  0.0\n",
      "\n",
      "Running tests with p =  0.7\n",
      "Mean of input:  10.000207878477502\n",
      "Mean of train-time output:  9.987811912159426\n",
      "Mean of test-time output:  10.000207878477502\n",
      "Fraction of train-time output set to zero:  0.30074\n",
      "Fraction of test-time output set to zero:  0.0\n",
      "\n"
     ]
    }
   ],
   "source": [
    "np.random.seed(231)\n",
    "x = np.random.randn(500, 500) + 10\n",
    "\n",
    "for p in [0.25, 0.4, 0.7]:\n",
    "    out, _ = dropout_forward(x, {\"mode\": \"train\", \"p\": p})\n",
    "    out_test, _ = dropout_forward(x, {\"mode\": \"test\", \"p\": p})\n",
    "\n",
    "    print(\"Running tests with p = \", p)\n",
    "    print(\"Mean of input: \", x.mean())\n",
    "    print(\"Mean of train-time output: \", out.mean())\n",
    "    print(\"Mean of test-time output: \", out_test.mean())\n",
    "    print(\"Fraction of train-time output set to zero: \", (out == 0).mean())\n",
    "    print(\"Fraction of test-time output set to zero: \", (out_test == 0).mean())\n",
    "    print()"
   ]
  },
  {
   "cell_type": "markdown",
   "metadata": {
    "id": "ht3kWsH-rH3a"
   },
   "source": [
    "# Dropout: Backward Pass\n",
    "In the file `cs231n/layers.py`, implement the backward pass for dropout. After doing so, run the following cell to numerically gradient-check your implementation.\n",
    "\n",
    "ファイル `cs231n/layers.py` で、ドロップアウトのためのバックワードパスを実装します。実装した後、次のセルを実行して実装を数値的にチェックします。"
   ]
  },
  {
   "cell_type": "code",
   "execution_count": 5,
   "metadata": {
    "colab": {
     "base_uri": "https://localhost:8080/"
    },
    "id": "4sBLi-w9rH3b",
    "outputId": "0a6a90df-95ae-48f5-93b2-9358482ecedf"
   },
   "outputs": [
    {
     "name": "stdout",
     "output_type": "stream",
     "text": [
      "dx relative error:  5.44560814873387e-11\n"
     ]
    }
   ],
   "source": [
    "np.random.seed(231)\n",
    "x = np.random.randn(10, 10) + 10\n",
    "dout = np.random.randn(*x.shape)\n",
    "\n",
    "dropout_param = {\"mode\": \"train\", \"p\": 0.2, \"seed\": 123}\n",
    "out, cache = dropout_forward(x, dropout_param)\n",
    "dx = dropout_backward(dout, cache)\n",
    "dx_num = eval_numerical_gradient_array(\n",
    "    lambda xx: dropout_forward(xx, dropout_param)[0], x, dout\n",
    ")\n",
    "\n",
    "# 誤差はe-10以下であるべきだ。\n",
    "print(\"dx relative error: \", rel_error(dx, dx_num))"
   ]
  },
  {
   "cell_type": "markdown",
   "metadata": {
    "id": "Fr6o-ErQrH3d",
    "tags": [
     "pdf-inline"
    ]
   },
   "source": [
    "## Inline Question 1:\n",
    "What happens if we do not divide the values being passed through inverse dropout by `p` in the dropout layer? Why does that happen?\n",
    "\n",
    "ドロップアウト層で、逆ドロップアウトを通過する値を`p`で割らないとどうなるのか？なぜそうなるのか？\n",
    "\n",
    "## Answer:\n",
    "### `p`で割らないとどうなるか\n",
    "`p`で割らないとテスト中で間違った予測を得ることになる。なぜならテスト時のネットワークはトレーニング時に得たものとは違ったスケールの出力を得るためである。\n",
    "\n",
    "スケーリングなしで、$\\hat y$を生成するニューロンの期待出力は次のようになる：\n",
    "\n",
    "$$E[\\hat y]=p\\hat y+(1-p)0=p\\hat y$$\n",
    "\n",
    "ここで、\n",
    "\n",
    "- $p\\hat y$: 出力が得られる確率\n",
    "- $(1-p)0$: 出力が得られない確率\n",
    "\n",
    "### `p`で割るとどうなるか\n",
    "`p`で割ると期待値は次のようになる：\n",
    "\n",
    "$$E[\\hat y]=\\frac{p}{p}\\hat y+\\frac{(1-p)}{p}0=\\hat y$$\n",
    "\n",
    "トレーニング時の出力の期待値がテスト時の出力と一致し、トレーニングと推論で一貫したスケールの出力を得ることができる。"
   ]
  },
  {
   "cell_type": "markdown",
   "metadata": {
    "id": "qxJS8FOprH3f"
   },
   "source": [
    "# Fully Connected Networks with Dropout\n",
    "In the file `cs231n/classifiers/fc_net.py`, modify your implementation to use dropout. Specifically, if the constructor of the network receives a value that is not 1 for the `dropout_keep_ratio` parameter, then the net should add a dropout layer immediately after every ReLU nonlinearity. After doing so, run the following to numerically gradient-check your implementation.\n",
    "\n",
    "ファイル `cs231n/classifiers/fc_net.py` で、ドロップアウトを使用するように実装を変更します。具体的には、ネットワークのコンストラクタで `dropout_keep_ratio` パラメータに 1 以外の値を指定すると、ReLU 非線形性の直後にドロップアウト層を追加します。そうしたら、以下を実行して実装を数値的に勾配チェックしてください。"
   ]
  },
  {
   "cell_type": "code",
   "execution_count": 6,
   "metadata": {
    "colab": {
     "base_uri": "https://localhost:8080/"
    },
    "id": "C_ErJCS-rH3h",
    "outputId": "92177314-20a2-4acb-ce3b-9274edf35a04"
   },
   "outputs": [
    {
     "name": "stdout",
     "output_type": "stream",
     "text": [
      "Running check with dropout =  1\n",
      "Initial loss:  2.300479089768492\n",
      "W1 relative error: 1.03e-07\n",
      "W2 relative error: 2.21e-05\n",
      "W3 relative error: 4.56e-07\n",
      "b1 relative error: 4.66e-09\n",
      "b2 relative error: 2.09e-09\n",
      "b3 relative error: 1.69e-10\n",
      "\n",
      "Running check with dropout =  0.75\n",
      "Initial loss:  2.302371489704412\n",
      "W1 relative error: 1.85e-07\n",
      "W2 relative error: 2.15e-06\n",
      "W3 relative error: 4.56e-08\n",
      "b1 relative error: 1.16e-08\n",
      "b2 relative error: 1.82e-09\n",
      "b3 relative error: 1.48e-10\n",
      "\n",
      "Running check with dropout =  0.5\n",
      "Initial loss:  2.30427592207859\n",
      "W1 relative error: 3.11e-07\n",
      "W2 relative error: 2.48e-08\n",
      "W3 relative error: 6.43e-08\n",
      "b1 relative error: 5.37e-09\n",
      "b2 relative error: 1.91e-09\n",
      "b3 relative error: 1.85e-10\n",
      "\n"
     ]
    }
   ],
   "source": [
    "np.random.seed(231)\n",
    "N, D, H1, H2, C = 2, 15, 20, 30, 10\n",
    "X = np.random.randn(N, D)\n",
    "y = np.random.randint(C, size=(N,))\n",
    "\n",
    "for dropout_keep_ratio in [1, 0.75, 0.5]:\n",
    "    print(\"Running check with dropout = \", dropout_keep_ratio)\n",
    "    model = FullyConnectedNet(\n",
    "        [H1, H2],\n",
    "        input_dim=D,\n",
    "        num_classes=C,\n",
    "        weight_scale=5e-2,\n",
    "        dtype=np.float64,\n",
    "        dropout_keep_ratio=dropout_keep_ratio,\n",
    "        seed=123,\n",
    "    )\n",
    "\n",
    "    loss, grads = model.loss(X, y)\n",
    "    print(\"Initial loss: \", loss)\n",
    "\n",
    "    # 相対誤差(Relative errors)はe-6以下であるべきだ。\n",
    "    # なお、dropout_keep_ratio=1の場合、W2の誤差がe-5のオーダーであれば問題ない。\n",
    "    for name in sorted(grads):\n",
    "        f = lambda _: model.loss(X, y)[0]\n",
    "        grad_num = eval_numerical_gradient(f, model.params[name], verbose=False, h=1e-5)\n",
    "        print(\"%s relative error: %.2e\" % (name, rel_error(grad_num, grads[name])))\n",
    "    print()"
   ]
  },
  {
   "cell_type": "markdown",
   "metadata": {
    "id": "5bkJUFuOrH3i"
   },
   "source": [
    "# Regularization Experiment\n",
    "As an experiment, we will train a pair of two-layer networks on 500 training examples: one will use no dropout, and one will use a keep probability of 0.25. We will then visualize the training and validation accuracies of the two networks over time.\n",
    "\n",
    "実験として、2層のネットワークのペアを500の訓練例で訓練する。1つはドロップアウトなし、もう1つはキープ確率0.25である。そして2つのネットワークの訓練と検証の精度を経時的に可視化する。"
   ]
  },
  {
   "cell_type": "code",
   "execution_count": 7,
   "metadata": {
    "colab": {
     "base_uri": "https://localhost:8080/"
    },
    "id": "ToM5yrjPrH3j",
    "outputId": "267711b1-b55e-41f0-d310-835fb556d694",
    "scrolled": false
   },
   "outputs": [
    {
     "name": "stdout",
     "output_type": "stream",
     "text": [
      "1\n",
      "(Iteration 1 / 125) loss: 7.856643\n",
      "(Epoch 0 / 25) train acc: 0.260000; val_acc: 0.184000\n",
      "(Epoch 1 / 25) train acc: 0.416000; val_acc: 0.258000\n",
      "(Epoch 2 / 25) train acc: 0.482000; val_acc: 0.276000\n",
      "(Epoch 3 / 25) train acc: 0.532000; val_acc: 0.277000\n",
      "(Epoch 4 / 25) train acc: 0.600000; val_acc: 0.271000\n",
      "(Epoch 5 / 25) train acc: 0.708000; val_acc: 0.299000\n",
      "(Epoch 6 / 25) train acc: 0.722000; val_acc: 0.282000\n",
      "(Epoch 7 / 25) train acc: 0.832000; val_acc: 0.255000\n",
      "(Epoch 8 / 25) train acc: 0.880000; val_acc: 0.268000\n",
      "(Epoch 9 / 25) train acc: 0.902000; val_acc: 0.277000\n",
      "(Epoch 10 / 25) train acc: 0.898000; val_acc: 0.261000\n",
      "(Epoch 11 / 25) train acc: 0.924000; val_acc: 0.263000\n",
      "(Epoch 12 / 25) train acc: 0.960000; val_acc: 0.300000\n",
      "(Epoch 13 / 25) train acc: 0.972000; val_acc: 0.314000\n",
      "(Epoch 14 / 25) train acc: 0.972000; val_acc: 0.310000\n",
      "(Epoch 15 / 25) train acc: 0.974000; val_acc: 0.314000\n",
      "(Epoch 16 / 25) train acc: 0.994000; val_acc: 0.303000\n",
      "(Epoch 17 / 25) train acc: 0.970000; val_acc: 0.306000\n",
      "(Epoch 18 / 25) train acc: 0.992000; val_acc: 0.312000\n",
      "(Epoch 19 / 25) train acc: 0.990000; val_acc: 0.311000\n",
      "(Epoch 20 / 25) train acc: 0.990000; val_acc: 0.287000\n",
      "(Iteration 101 / 125) loss: 0.001695\n",
      "(Epoch 21 / 25) train acc: 0.994000; val_acc: 0.289000\n",
      "(Epoch 22 / 25) train acc: 0.998000; val_acc: 0.307000\n",
      "(Epoch 23 / 25) train acc: 0.994000; val_acc: 0.308000\n",
      "(Epoch 24 / 25) train acc: 0.998000; val_acc: 0.311000\n",
      "(Epoch 25 / 25) train acc: 0.992000; val_acc: 0.310000\n",
      "\n",
      "0.25\n",
      "(Iteration 1 / 125) loss: 17.318478\n",
      "(Epoch 0 / 25) train acc: 0.230000; val_acc: 0.177000\n",
      "(Epoch 1 / 25) train acc: 0.378000; val_acc: 0.243000\n",
      "(Epoch 2 / 25) train acc: 0.402000; val_acc: 0.254000\n",
      "(Epoch 3 / 25) train acc: 0.502000; val_acc: 0.276000\n",
      "(Epoch 4 / 25) train acc: 0.528000; val_acc: 0.298000\n",
      "(Epoch 5 / 25) train acc: 0.562000; val_acc: 0.296000\n",
      "(Epoch 6 / 25) train acc: 0.626000; val_acc: 0.291000\n",
      "(Epoch 7 / 25) train acc: 0.622000; val_acc: 0.297000\n",
      "(Epoch 8 / 25) train acc: 0.688000; val_acc: 0.313000\n",
      "(Epoch 9 / 25) train acc: 0.712000; val_acc: 0.297000\n",
      "(Epoch 10 / 25) train acc: 0.724000; val_acc: 0.306000\n",
      "(Epoch 11 / 25) train acc: 0.768000; val_acc: 0.307000\n",
      "(Epoch 12 / 25) train acc: 0.774000; val_acc: 0.284000\n",
      "(Epoch 13 / 25) train acc: 0.828000; val_acc: 0.308000\n",
      "(Epoch 14 / 25) train acc: 0.812000; val_acc: 0.346000\n",
      "(Epoch 15 / 25) train acc: 0.848000; val_acc: 0.338000\n",
      "(Epoch 16 / 25) train acc: 0.842000; val_acc: 0.306000\n",
      "(Epoch 17 / 25) train acc: 0.856000; val_acc: 0.301000\n",
      "(Epoch 18 / 25) train acc: 0.860000; val_acc: 0.317000\n",
      "(Epoch 19 / 25) train acc: 0.882000; val_acc: 0.313000\n",
      "(Epoch 20 / 25) train acc: 0.866000; val_acc: 0.312000\n",
      "(Iteration 101 / 125) loss: 4.185203\n",
      "(Epoch 21 / 25) train acc: 0.894000; val_acc: 0.332000\n",
      "(Epoch 22 / 25) train acc: 0.898000; val_acc: 0.313000\n",
      "(Epoch 23 / 25) train acc: 0.928000; val_acc: 0.314000\n",
      "(Epoch 24 / 25) train acc: 0.922000; val_acc: 0.315000\n",
      "(Epoch 25 / 25) train acc: 0.926000; val_acc: 0.330000\n",
      "\n"
     ]
    }
   ],
   "source": [
    "# 同じネットを2つ、1つはドロップアウトあり、もう1つはドロップアウトなしで訓練する。\n",
    "np.random.seed(231)\n",
    "num_train = 500\n",
    "small_data = {\n",
    "    \"X_train\": data[\"X_train\"][:num_train],\n",
    "    \"y_train\": data[\"y_train\"][:num_train],\n",
    "    \"X_val\": data[\"X_val\"],\n",
    "    \"y_val\": data[\"y_val\"],\n",
    "}\n",
    "\n",
    "solvers = {}\n",
    "dropout_choices = [1, 0.25]\n",
    "for dropout_keep_ratio in dropout_choices:\n",
    "    model = FullyConnectedNet([500], dropout_keep_ratio=dropout_keep_ratio)\n",
    "    print(dropout_keep_ratio)\n",
    "\n",
    "    solver = Solver(\n",
    "        model,\n",
    "        small_data,\n",
    "        num_epochs=25,\n",
    "        batch_size=100,\n",
    "        update_rule=\"adam\",\n",
    "        optim_config={\n",
    "            \"learning_rate\": 5e-4,\n",
    "        },\n",
    "        verbose=True,\n",
    "        print_every=100,\n",
    "    )\n",
    "    solver.train()\n",
    "    solvers[dropout_keep_ratio] = solver\n",
    "    print()"
   ]
  },
  {
   "cell_type": "code",
   "execution_count": 8,
   "metadata": {
    "colab": {
     "base_uri": "https://localhost:8080/",
     "height": 849
    },
    "id": "vMJfUIzjrH3k",
    "outputId": "b2865cf2-fbff-45c4-ec28-a904332f9514"
   },
   "outputs": [
    {
     "data": {
      "image/png": "[encoded data removed]",
      "text/plain": [
       "<Figure size 1500x1500 with 2 Axes>"
      ]
     },
     "metadata": {},
     "output_type": "display_data"
    }
   ],
   "source": [
    "# 2つのモデルの訓練精度と検証精度をプロットする。\n",
    "train_accs = []\n",
    "val_accs = []\n",
    "for dropout_keep_ratio in dropout_choices:\n",
    "    solver = solvers[dropout_keep_ratio]\n",
    "    train_accs.append(solver.train_acc_history[-1])\n",
    "    val_accs.append(solver.val_acc_history[-1])\n",
    "\n",
    "plt.subplot(3, 1, 1)\n",
    "for dropout_keep_ratio in dropout_choices:\n",
    "    plt.plot(\n",
    "        solvers[dropout_keep_ratio].train_acc_history,\n",
    "        \"o\",\n",
    "        label=\"%.2f dropout_keep_ratio\" % dropout_keep_ratio,\n",
    "    )\n",
    "plt.title(\"Train accuracy\")\n",
    "plt.xlabel(\"Epoch\")\n",
    "plt.ylabel(\"Accuracy\")\n",
    "plt.legend(ncol=2, loc=\"lower right\")\n",
    "\n",
    "plt.subplot(3, 1, 2)\n",
    "for dropout_keep_ratio in dropout_choices:\n",
    "    plt.plot(\n",
    "        solvers[dropout_keep_ratio].val_acc_history,\n",
    "        \"o\",\n",
    "        label=\"%.2f dropout_keep_ratio\" % dropout_keep_ratio,\n",
    "    )\n",
    "plt.title(\"Val accuracy\")\n",
    "plt.xlabel(\"Epoch\")\n",
    "plt.ylabel(\"Accuracy\")\n",
    "plt.legend(ncol=2, loc=\"lower right\")\n",
    "\n",
    "plt.gcf().set_size_inches(15, 15)\n",
    "plt.show()"
   ]
  },
  {
   "cell_type": "markdown",
   "metadata": {
    "id": "wvmgutXirH3m",
    "tags": [
     "pdf-inline"
    ]
   },
   "source": [
    "## Inline Question 2:\n",
    "Compare the validation and training accuracies with and without dropout -- what do your results suggest about dropout as a regularizer?\n",
    "\n",
    "ドロップアウトの有無による検証精度とトレーニング精度の比較 -- 正則化としてのドロップアウトについて、この結果は何を示唆していますか？\n",
    "\n",
    "### Answer:\n",
    "\n",
    "学習データに対する正解率を比較すると、ドロップアウトを使用しないほうが高い正解率を記録した。一方検証データに対する正解率はドロップアウトを使用したほうが高い正解率だった。よってドロップアウトを使用しなかったモデルは使用したモデルと比べて若干過学習を起こしていると解釈できる。\n",
    "\n",
    "この結果から、ドロップアウトを行うことは過学習を抑制するうえで有効な手段であると考えられる。\n"
   ]
  },
  {
   "cell_type": "markdown",
   "metadata": {
    "id": "OoIZ3pjHrH3m",
    "tags": [
     "pdf-inline"
    ]
   },
   "source": [
    "## Inline Question 3:\n",
    "Suppose we are training a deep fully connected network for image classification, with dropout after hidden layers (parameterized by keep probability `p`). If we are concerned about overfitting, how should we modify `p` (if at all) when we decide to decrease the size of the hidden layers (that is, the number of nodes in each layer)?\n",
    "\n",
    "画像分類のために、隠れ層の後にドロップアウトする（確率 `p` でパラメータ化された）深い全結合ネットワークを学習しているとします。オーバーフィッティングを懸念する場合、隠れ層のサイズ（つまり、各層のノード数）を小さくすることを決めたとき、（もしあるとすれば）どのように `p` を修正すべきだろうか？\n",
    "\n",
    "### Answer:\n",
    "\n",
    "ドロップアウト率をより小さく調整する。\n",
    "\n",
    "単純なネットワークはデータの詳細な特徴をすべて学習することはできないのでもともと過剰適合しにくい。そのためドロップアウト率を高くしすぎるとモデルが十分に学習できなくなるリスクがある。具体的な値は実験的に決定すると良い。\n"
   ]
  },
  {
   "cell_type": "code",
   "execution_count": null,
   "metadata": {
    "id": "g--G0B3trH3n"
   },
   "outputs": [],
   "source": []
  }
 ],
 "metadata": {
  "colab": {
   "provenance": []
  },
  "kernelspec": {
   "display_name": "Python 3",
   "name": "python3"
  },
  "language_info": {
   "name": "python",
   "version": "3.10.14"
  }
 },
 "nbformat": 4,
 "nbformat_minor": 0
}
